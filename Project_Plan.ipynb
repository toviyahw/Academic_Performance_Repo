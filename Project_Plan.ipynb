{
 "cells": [
  {
   "cell_type": "markdown",
   "metadata": {},
   "source": [
    "# Project Plan: Academic Performance Analysis Using Excel\n",
    "\n",
    "## Purpose\n",
    "This project aims to analyze student academic performance using Excel, focusing on identifying trends in CGPA, comparing program performance, and examining the relationship between secondary school GPA (SGPA) and university CGPA. Through pivot tables, advanced Excel functions, and data visualizations, this project will demonstrate strong Excel proficiency while uncovering meaningful insights.\n",
    "\n",
    "## Methods\n",
    "- **Data Cleaning & Preprocessing:**\n",
    "  - Identify and handle missing or inconsistent values using Excel’s data cleaning tools (e.g., Find & Replace, Remove Duplicates, IFERROR).\n",
    "  - Standardize categorical values (e.g., program codes) for consistency.\n",
    "  - Convert numerical data into appropriate formats for calculations and analysis.\n",
    "\n",
    "- **Data Analysis with Excel:**\n",
    "  - Use **Pivot Tables** to summarize CGPA trends across different programs and genders.\n",
    "  - Apply **Advanced Functions** such as:\n",
    "    - `VLOOKUP` / `XLOOKUP` for cross-referencing student information.\n",
    "    - `IF`, `COUNTIF`, and `SUMIF` for conditional data analysis.\n",
    "    - `AVERAGEIFS` and `RANK` to compare student performance across different categories.\n",
    "\n",
    "- **Data Visualization:**\n",
    "  - Create **Pivot Charts** to display trends in CGPA progression by year and program.\n",
    "  - Use **Conditional Formatting** to highlight top-performing students and identify underperforming groups.\n",
    "  - Develop **Line Charts** for CGPA progression over four years.\n",
    "  - Use **Bar Charts and Histograms** to compare program performance and CGPA distributions.\n",
    "\n",
    "## Research Questions\n",
    "1. How do CGPA trends vary across different programs of study?\n",
    "2. What is the relationship between secondary school GPA (SGPA) and university CGPA?\n",
    "3. Are there significant performance differences between male and female students?\n",
    "4. Do students from certain programs have consistently higher or lower CGPAs?\n",
    "5. How do CGPAs evolve over four years of study for different programs?\n",
    "6. Are there any trends in CGPA progression for different graduation years?\n",
    "\n",
    "## Tools & Technologies\n",
    "- **Microsoft Excel:**\n",
    "  - Pivot Tables & Pivot Charts for data summarization\n",
    "  - Advanced Excel functions (VLOOKUP/XLOOKUP, IF statements, COUNTIF, AVERAGEIFS, etc.)\n",
    "  - Data Visualization tools (Bar Charts, Line Graphs, Conditional Formatting)\n",
    "\n",
    "## Expected Outcomes\n",
    "- A well-structured Excel workbook with cleaned and organized data.\n",
    "- Pivot tables and charts summarizing key insights.\n",
    "- A visually appealing dashboard for analyzing student performance trends.\n",
    "- Actionable insights on factors influencing CGPA performance.\n"
   ]
  },
  {
   "cell_type": "markdown",
   "metadata": {},
   "source": [
    "## Data Cleaning and Preprocessing"
   ]
  },
  {
   "cell_type": "code",
   "execution_count": null,
   "metadata": {},
   "outputs": [],
   "source": []
  }
 ],
 "metadata": {
  "kernelspec": {
   "display_name": "Python [conda env:base] *",
   "language": "python",
   "name": "conda-base-py"
  },
  "language_info": {
   "codemirror_mode": {
    "name": "ipython",
    "version": 3
   },
   "file_extension": ".py",
   "mimetype": "text/x-python",
   "name": "python",
   "nbconvert_exporter": "python",
   "pygments_lexer": "ipython3",
   "version": "3.12.7"
  }
 },
 "nbformat": 4,
 "nbformat_minor": 4
}
