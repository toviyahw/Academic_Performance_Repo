{
 "cells": [
  {
   "cell_type": "markdown",
   "metadata": {},
   "source": [
    "# Project Plan: Academic Performance Analysis\n",
    "\n",
    "## Purpose\n",
    "This project aims to analyze the academic performance of students across different programs of study. The analysis will explore factors influencing CGPA trends, the impact of secondary school GPA on university performance, and potential disparities across gender and program types.\n",
    "\n",
    "## Methods\n",
    "- **Data Cleaning & Preprocessing:**\n",
    "  - Handle missing values (if applicable)\n",
    "  - Convert categorical variables into usable formats\n",
    "  - Normalize and standardize numerical data for comparison\n",
    "\n",
    "- **Exploratory Data Analysis (EDA):**\n",
    "  - Summary statistics for CGPA distributions\n",
    "  - Visualizing trends in CGPA progression from year 1 to graduation\n",
    "  - Correlation analysis between SGPA and university CGPA\n",
    "\n",
    "- **Data Visualization:**\n",
    "  - Histograms and box plots for CGPA distributions\n",
    "  - Line graphs for CGPA progression\n",
    "  - Heatmaps to show correlations\n",
    "\n",
    "- **SQL Integration:**\n",
    "  - Querying student performance based on program and gender\n",
    "  - Identifying top-performing students\n",
    "  - Comparing CGPA trends over different graduation years\n",
    "\n",
    "## Research Questions\n",
    "1. How do CGPA trends vary across different programs of study?\n",
    "2. What is the relationship between secondary school GPA (SGPA) and university CGPA?\n",
    "3. Are there significant performance differences between male and female students?\n",
    "4. Do students from certain programs have consistently higher or lower CGPAs?\n",
    "5. How do CGPAs evolve over four years of study for different programs?\n",
    "6. Are there any trends in CGPA progression for different graduation years?\n",
    "\n",
    "## Tools & Technologies\n",
    "- **Python:** Pandas for data manipulation, Matplotlib/Seaborn for visualization\n",
    "- **Excel:** Data cleaning and preliminary analysis\n",
    "- **SQL:** Querying relational database insights\n",
    "\n",
    "## Expected Outcomes\n",
    "- A comprehensive report on student performance trends\n",
    "- Visual dashboards representing key insights\n",
    "- Predictive insights on factors influencing CGPA performance\n",
    "\n"
   ]
  },
  {
   "cell_type": "markdown",
   "metadata": {},
   "source": []
  }
 ],
 "metadata": {
  "language_info": {
   "name": "python"
  }
 },
 "nbformat": 4,
 "nbformat_minor": 2
}
